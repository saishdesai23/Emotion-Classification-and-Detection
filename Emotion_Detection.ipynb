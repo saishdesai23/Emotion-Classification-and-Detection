{
  "nbformat": 4,
  "nbformat_minor": 0,
  "metadata": {
    "colab": {
      "name": "Emotion_Detection",
      "provenance": [],
      "authorship_tag": "ABX9TyOj1XqWFW9Ys5w410mfTKmO",
      "include_colab_link": true
    },
    "kernelspec": {
      "name": "python3",
      "display_name": "Python 3"
    },
    "language_info": {
      "name": "python"
    },
    "accelerator": "GPU"
  },
  "cells": [
    {
      "cell_type": "markdown",
      "metadata": {
        "id": "view-in-github",
        "colab_type": "text"
      },
      "source": [
        "<a href=\"https://colab.research.google.com/github/saishdesai23/Emotion-Classification-and-Detection/blob/main/Emotion_Detection.ipynb\" target=\"_parent\"><img src=\"https://colab.research.google.com/assets/colab-badge.svg\" alt=\"Open In Colab\"/></a>"
      ]
    },
    {
      "cell_type": "markdown",
      "source": [
        "**Connecting the Library to google drive**"
      ],
      "metadata": {
        "id": "T9k3ZZ4bki7p"
      }
    },
    {
      "cell_type": "code",
      "source": [
        "from google.colab import drive\n",
        "drive.mount('/content/drive')"
      ],
      "metadata": {
        "colab": {
          "base_uri": "https://localhost:8080/"
        },
        "id": "b7AlqJwoiq3H",
        "outputId": "01518fff-74a3-4f9d-b021-c94ac67adbc8"
      },
      "execution_count": 1,
      "outputs": [
        {
          "output_type": "stream",
          "name": "stdout",
          "text": [
            "Drive already mounted at /content/drive; to attempt to forcibly remount, call drive.mount(\"/content/drive\", force_remount=True).\n"
          ]
        }
      ]
    },
    {
      "cell_type": "markdown",
      "source": [
        "**Importing required packages**"
      ],
      "metadata": {
        "id": "-h798HtqkpF5"
      }
    },
    {
      "cell_type": "code",
      "execution_count": 2,
      "metadata": {
        "id": "fjLg8_IbiGmZ"
      },
      "outputs": [],
      "source": [
        "import pandas as pd\n",
        "import numpy as np"
      ]
    },
    {
      "cell_type": "markdown",
      "source": [
        "**Creating dataframe**"
      ],
      "metadata": {
        "id": "anDiSz73kvHE"
      }
    },
    {
      "cell_type": "code",
      "source": [
        "def dataframe_creation(filepath : str):\n",
        "  \"\"\"\n",
        "  Function to create a dataframe form the text file\n",
        "  \"\"\"\n",
        "  # reading data from the text file\n",
        "  with open(filepath, \"r\") as f:\n",
        "    lines = f.readlines()\n",
        "  sent = []\n",
        "  emotion = []\n",
        "  for line in lines:\n",
        "    entry = line.split(\";\")\n",
        "    sent.append(entry[0])\n",
        "    emotion.append(entry[1][:-1])\n",
        "\n",
        "  # storing the data in a dataframe\n",
        "  dataframe = pd.DataFrame(zip(sent,emotion) , columns=['Message','Emotion'])\n",
        "  dataframe['Emotion'] = dataframe['Emotion'].astype('category')\n",
        "  return dataframe\n",
        "  \n"
      ],
      "metadata": {
        "id": "I7kk_gdkiOk0"
      },
      "execution_count": 3,
      "outputs": []
    },
    {
      "cell_type": "code",
      "source": [
        "train_data = dataframe_creation(\"/content/drive/MyDrive/Kaggle Competitions/Emotion_Detection/data/train.txt\")\n",
        "val_data = dataframe_creation(\"/content/drive/MyDrive/Kaggle Competitions/Emotion_Detection/data/val.txt\")\n",
        "test_data = dataframe_creation(\"/content/drive/MyDrive/Kaggle Competitions/Emotion_Detection/data/test.txt\")"
      ],
      "metadata": {
        "id": "SERZs8wti6GH"
      },
      "execution_count": 4,
      "outputs": []
    },
    {
      "cell_type": "code",
      "source": [
        "train_data.head()"
      ],
      "metadata": {
        "colab": {
          "base_uri": "https://localhost:8080/",
          "height": 206
        },
        "id": "z2dEKqxfl4rP",
        "outputId": "a60f8e15-7dbe-4b87-fba1-95a967e03af4"
      },
      "execution_count": 5,
      "outputs": [
        {
          "output_type": "execute_result",
          "data": {
            "text/plain": [
              "                                             Message  Emotion\n",
              "0                            i didnt feel humiliated  sadness\n",
              "1  i can go from feeling so hopeless to so damned...  sadness\n",
              "2   im grabbing a minute to post i feel greedy wrong    anger\n",
              "3  i am ever feeling nostalgic about the fireplac...     love\n",
              "4                               i am feeling grouchy    anger"
            ],
            "text/html": [
              "\n",
              "  <div id=\"df-783b0dde-3007-43c8-a4e9-74d0b2033a6d\">\n",
              "    <div class=\"colab-df-container\">\n",
              "      <div>\n",
              "<style scoped>\n",
              "    .dataframe tbody tr th:only-of-type {\n",
              "        vertical-align: middle;\n",
              "    }\n",
              "\n",
              "    .dataframe tbody tr th {\n",
              "        vertical-align: top;\n",
              "    }\n",
              "\n",
              "    .dataframe thead th {\n",
              "        text-align: right;\n",
              "    }\n",
              "</style>\n",
              "<table border=\"1\" class=\"dataframe\">\n",
              "  <thead>\n",
              "    <tr style=\"text-align: right;\">\n",
              "      <th></th>\n",
              "      <th>Message</th>\n",
              "      <th>Emotion</th>\n",
              "    </tr>\n",
              "  </thead>\n",
              "  <tbody>\n",
              "    <tr>\n",
              "      <th>0</th>\n",
              "      <td>i didnt feel humiliated</td>\n",
              "      <td>sadness</td>\n",
              "    </tr>\n",
              "    <tr>\n",
              "      <th>1</th>\n",
              "      <td>i can go from feeling so hopeless to so damned...</td>\n",
              "      <td>sadness</td>\n",
              "    </tr>\n",
              "    <tr>\n",
              "      <th>2</th>\n",
              "      <td>im grabbing a minute to post i feel greedy wrong</td>\n",
              "      <td>anger</td>\n",
              "    </tr>\n",
              "    <tr>\n",
              "      <th>3</th>\n",
              "      <td>i am ever feeling nostalgic about the fireplac...</td>\n",
              "      <td>love</td>\n",
              "    </tr>\n",
              "    <tr>\n",
              "      <th>4</th>\n",
              "      <td>i am feeling grouchy</td>\n",
              "      <td>anger</td>\n",
              "    </tr>\n",
              "  </tbody>\n",
              "</table>\n",
              "</div>\n",
              "      <button class=\"colab-df-convert\" onclick=\"convertToInteractive('df-783b0dde-3007-43c8-a4e9-74d0b2033a6d')\"\n",
              "              title=\"Convert this dataframe to an interactive table.\"\n",
              "              style=\"display:none;\">\n",
              "        \n",
              "  <svg xmlns=\"http://www.w3.org/2000/svg\" height=\"24px\"viewBox=\"0 0 24 24\"\n",
              "       width=\"24px\">\n",
              "    <path d=\"M0 0h24v24H0V0z\" fill=\"none\"/>\n",
              "    <path d=\"M18.56 5.44l.94 2.06.94-2.06 2.06-.94-2.06-.94-.94-2.06-.94 2.06-2.06.94zm-11 1L8.5 8.5l.94-2.06 2.06-.94-2.06-.94L8.5 2.5l-.94 2.06-2.06.94zm10 10l.94 2.06.94-2.06 2.06-.94-2.06-.94-.94-2.06-.94 2.06-2.06.94z\"/><path d=\"M17.41 7.96l-1.37-1.37c-.4-.4-.92-.59-1.43-.59-.52 0-1.04.2-1.43.59L10.3 9.45l-7.72 7.72c-.78.78-.78 2.05 0 2.83L4 21.41c.39.39.9.59 1.41.59.51 0 1.02-.2 1.41-.59l7.78-7.78 2.81-2.81c.8-.78.8-2.07 0-2.86zM5.41 20L4 18.59l7.72-7.72 1.47 1.35L5.41 20z\"/>\n",
              "  </svg>\n",
              "      </button>\n",
              "      \n",
              "  <style>\n",
              "    .colab-df-container {\n",
              "      display:flex;\n",
              "      flex-wrap:wrap;\n",
              "      gap: 12px;\n",
              "    }\n",
              "\n",
              "    .colab-df-convert {\n",
              "      background-color: #E8F0FE;\n",
              "      border: none;\n",
              "      border-radius: 50%;\n",
              "      cursor: pointer;\n",
              "      display: none;\n",
              "      fill: #1967D2;\n",
              "      height: 32px;\n",
              "      padding: 0 0 0 0;\n",
              "      width: 32px;\n",
              "    }\n",
              "\n",
              "    .colab-df-convert:hover {\n",
              "      background-color: #E2EBFA;\n",
              "      box-shadow: 0px 1px 2px rgba(60, 64, 67, 0.3), 0px 1px 3px 1px rgba(60, 64, 67, 0.15);\n",
              "      fill: #174EA6;\n",
              "    }\n",
              "\n",
              "    [theme=dark] .colab-df-convert {\n",
              "      background-color: #3B4455;\n",
              "      fill: #D2E3FC;\n",
              "    }\n",
              "\n",
              "    [theme=dark] .colab-df-convert:hover {\n",
              "      background-color: #434B5C;\n",
              "      box-shadow: 0px 1px 3px 1px rgba(0, 0, 0, 0.15);\n",
              "      filter: drop-shadow(0px 1px 2px rgba(0, 0, 0, 0.3));\n",
              "      fill: #FFFFFF;\n",
              "    }\n",
              "  </style>\n",
              "\n",
              "      <script>\n",
              "        const buttonEl =\n",
              "          document.querySelector('#df-783b0dde-3007-43c8-a4e9-74d0b2033a6d button.colab-df-convert');\n",
              "        buttonEl.style.display =\n",
              "          google.colab.kernel.accessAllowed ? 'block' : 'none';\n",
              "\n",
              "        async function convertToInteractive(key) {\n",
              "          const element = document.querySelector('#df-783b0dde-3007-43c8-a4e9-74d0b2033a6d');\n",
              "          const dataTable =\n",
              "            await google.colab.kernel.invokeFunction('convertToInteractive',\n",
              "                                                     [key], {});\n",
              "          if (!dataTable) return;\n",
              "\n",
              "          const docLinkHtml = 'Like what you see? Visit the ' +\n",
              "            '<a target=\"_blank\" href=https://colab.research.google.com/notebooks/data_table.ipynb>data table notebook</a>'\n",
              "            + ' to learn more about interactive tables.';\n",
              "          element.innerHTML = '';\n",
              "          dataTable['output_type'] = 'display_data';\n",
              "          await google.colab.output.renderOutput(dataTable, element);\n",
              "          const docLink = document.createElement('div');\n",
              "          docLink.innerHTML = docLinkHtml;\n",
              "          element.appendChild(docLink);\n",
              "        }\n",
              "      </script>\n",
              "    </div>\n",
              "  </div>\n",
              "  "
            ]
          },
          "metadata": {},
          "execution_count": 5
        }
      ]
    },
    {
      "cell_type": "code",
      "source": [
        "val_data.head()"
      ],
      "metadata": {
        "colab": {
          "base_uri": "https://localhost:8080/",
          "height": 206
        },
        "id": "YQG-MqAFl53z",
        "outputId": "56c0b8d0-c444-4347-c81b-718442e0c5d4"
      },
      "execution_count": 6,
      "outputs": [
        {
          "output_type": "execute_result",
          "data": {
            "text/plain": [
              "                                             Message  Emotion\n",
              "0  im feeling quite sad and sorry for myself but ...  sadness\n",
              "1  i feel like i am still looking at a blank canv...  sadness\n",
              "2                     i feel like a faithful servant     love\n",
              "3                  i am just feeling cranky and blue    anger\n",
              "4  i can have for a treat or if i am feeling festive      joy"
            ],
            "text/html": [
              "\n",
              "  <div id=\"df-ab512833-7bea-4344-8681-ed2f3fe1558b\">\n",
              "    <div class=\"colab-df-container\">\n",
              "      <div>\n",
              "<style scoped>\n",
              "    .dataframe tbody tr th:only-of-type {\n",
              "        vertical-align: middle;\n",
              "    }\n",
              "\n",
              "    .dataframe tbody tr th {\n",
              "        vertical-align: top;\n",
              "    }\n",
              "\n",
              "    .dataframe thead th {\n",
              "        text-align: right;\n",
              "    }\n",
              "</style>\n",
              "<table border=\"1\" class=\"dataframe\">\n",
              "  <thead>\n",
              "    <tr style=\"text-align: right;\">\n",
              "      <th></th>\n",
              "      <th>Message</th>\n",
              "      <th>Emotion</th>\n",
              "    </tr>\n",
              "  </thead>\n",
              "  <tbody>\n",
              "    <tr>\n",
              "      <th>0</th>\n",
              "      <td>im feeling quite sad and sorry for myself but ...</td>\n",
              "      <td>sadness</td>\n",
              "    </tr>\n",
              "    <tr>\n",
              "      <th>1</th>\n",
              "      <td>i feel like i am still looking at a blank canv...</td>\n",
              "      <td>sadness</td>\n",
              "    </tr>\n",
              "    <tr>\n",
              "      <th>2</th>\n",
              "      <td>i feel like a faithful servant</td>\n",
              "      <td>love</td>\n",
              "    </tr>\n",
              "    <tr>\n",
              "      <th>3</th>\n",
              "      <td>i am just feeling cranky and blue</td>\n",
              "      <td>anger</td>\n",
              "    </tr>\n",
              "    <tr>\n",
              "      <th>4</th>\n",
              "      <td>i can have for a treat or if i am feeling festive</td>\n",
              "      <td>joy</td>\n",
              "    </tr>\n",
              "  </tbody>\n",
              "</table>\n",
              "</div>\n",
              "      <button class=\"colab-df-convert\" onclick=\"convertToInteractive('df-ab512833-7bea-4344-8681-ed2f3fe1558b')\"\n",
              "              title=\"Convert this dataframe to an interactive table.\"\n",
              "              style=\"display:none;\">\n",
              "        \n",
              "  <svg xmlns=\"http://www.w3.org/2000/svg\" height=\"24px\"viewBox=\"0 0 24 24\"\n",
              "       width=\"24px\">\n",
              "    <path d=\"M0 0h24v24H0V0z\" fill=\"none\"/>\n",
              "    <path d=\"M18.56 5.44l.94 2.06.94-2.06 2.06-.94-2.06-.94-.94-2.06-.94 2.06-2.06.94zm-11 1L8.5 8.5l.94-2.06 2.06-.94-2.06-.94L8.5 2.5l-.94 2.06-2.06.94zm10 10l.94 2.06.94-2.06 2.06-.94-2.06-.94-.94-2.06-.94 2.06-2.06.94z\"/><path d=\"M17.41 7.96l-1.37-1.37c-.4-.4-.92-.59-1.43-.59-.52 0-1.04.2-1.43.59L10.3 9.45l-7.72 7.72c-.78.78-.78 2.05 0 2.83L4 21.41c.39.39.9.59 1.41.59.51 0 1.02-.2 1.41-.59l7.78-7.78 2.81-2.81c.8-.78.8-2.07 0-2.86zM5.41 20L4 18.59l7.72-7.72 1.47 1.35L5.41 20z\"/>\n",
              "  </svg>\n",
              "      </button>\n",
              "      \n",
              "  <style>\n",
              "    .colab-df-container {\n",
              "      display:flex;\n",
              "      flex-wrap:wrap;\n",
              "      gap: 12px;\n",
              "    }\n",
              "\n",
              "    .colab-df-convert {\n",
              "      background-color: #E8F0FE;\n",
              "      border: none;\n",
              "      border-radius: 50%;\n",
              "      cursor: pointer;\n",
              "      display: none;\n",
              "      fill: #1967D2;\n",
              "      height: 32px;\n",
              "      padding: 0 0 0 0;\n",
              "      width: 32px;\n",
              "    }\n",
              "\n",
              "    .colab-df-convert:hover {\n",
              "      background-color: #E2EBFA;\n",
              "      box-shadow: 0px 1px 2px rgba(60, 64, 67, 0.3), 0px 1px 3px 1px rgba(60, 64, 67, 0.15);\n",
              "      fill: #174EA6;\n",
              "    }\n",
              "\n",
              "    [theme=dark] .colab-df-convert {\n",
              "      background-color: #3B4455;\n",
              "      fill: #D2E3FC;\n",
              "    }\n",
              "\n",
              "    [theme=dark] .colab-df-convert:hover {\n",
              "      background-color: #434B5C;\n",
              "      box-shadow: 0px 1px 3px 1px rgba(0, 0, 0, 0.15);\n",
              "      filter: drop-shadow(0px 1px 2px rgba(0, 0, 0, 0.3));\n",
              "      fill: #FFFFFF;\n",
              "    }\n",
              "  </style>\n",
              "\n",
              "      <script>\n",
              "        const buttonEl =\n",
              "          document.querySelector('#df-ab512833-7bea-4344-8681-ed2f3fe1558b button.colab-df-convert');\n",
              "        buttonEl.style.display =\n",
              "          google.colab.kernel.accessAllowed ? 'block' : 'none';\n",
              "\n",
              "        async function convertToInteractive(key) {\n",
              "          const element = document.querySelector('#df-ab512833-7bea-4344-8681-ed2f3fe1558b');\n",
              "          const dataTable =\n",
              "            await google.colab.kernel.invokeFunction('convertToInteractive',\n",
              "                                                     [key], {});\n",
              "          if (!dataTable) return;\n",
              "\n",
              "          const docLinkHtml = 'Like what you see? Visit the ' +\n",
              "            '<a target=\"_blank\" href=https://colab.research.google.com/notebooks/data_table.ipynb>data table notebook</a>'\n",
              "            + ' to learn more about interactive tables.';\n",
              "          element.innerHTML = '';\n",
              "          dataTable['output_type'] = 'display_data';\n",
              "          await google.colab.output.renderOutput(dataTable, element);\n",
              "          const docLink = document.createElement('div');\n",
              "          docLink.innerHTML = docLinkHtml;\n",
              "          element.appendChild(docLink);\n",
              "        }\n",
              "      </script>\n",
              "    </div>\n",
              "  </div>\n",
              "  "
            ]
          },
          "metadata": {},
          "execution_count": 6
        }
      ]
    },
    {
      "cell_type": "code",
      "source": [
        "test_data.head()"
      ],
      "metadata": {
        "colab": {
          "base_uri": "https://localhost:8080/",
          "height": 206
        },
        "id": "SvfPNVPZl7i8",
        "outputId": "b26fdf32-e415-4e5c-ea56-9d306e717079"
      },
      "execution_count": 7,
      "outputs": [
        {
          "output_type": "execute_result",
          "data": {
            "text/plain": [
              "                                             Message  Emotion\n",
              "0  im feeling rather rotten so im not very ambiti...  sadness\n",
              "1          im updating my blog because i feel shitty  sadness\n",
              "2  i never make her separate from me because i do...  sadness\n",
              "3  i left with my bouquet of red and yellow tulip...      joy\n",
              "4    i was feeling a little vain when i did this one  sadness"
            ],
            "text/html": [
              "\n",
              "  <div id=\"df-30b21686-bfaf-4170-aaf0-7a10a6473779\">\n",
              "    <div class=\"colab-df-container\">\n",
              "      <div>\n",
              "<style scoped>\n",
              "    .dataframe tbody tr th:only-of-type {\n",
              "        vertical-align: middle;\n",
              "    }\n",
              "\n",
              "    .dataframe tbody tr th {\n",
              "        vertical-align: top;\n",
              "    }\n",
              "\n",
              "    .dataframe thead th {\n",
              "        text-align: right;\n",
              "    }\n",
              "</style>\n",
              "<table border=\"1\" class=\"dataframe\">\n",
              "  <thead>\n",
              "    <tr style=\"text-align: right;\">\n",
              "      <th></th>\n",
              "      <th>Message</th>\n",
              "      <th>Emotion</th>\n",
              "    </tr>\n",
              "  </thead>\n",
              "  <tbody>\n",
              "    <tr>\n",
              "      <th>0</th>\n",
              "      <td>im feeling rather rotten so im not very ambiti...</td>\n",
              "      <td>sadness</td>\n",
              "    </tr>\n",
              "    <tr>\n",
              "      <th>1</th>\n",
              "      <td>im updating my blog because i feel shitty</td>\n",
              "      <td>sadness</td>\n",
              "    </tr>\n",
              "    <tr>\n",
              "      <th>2</th>\n",
              "      <td>i never make her separate from me because i do...</td>\n",
              "      <td>sadness</td>\n",
              "    </tr>\n",
              "    <tr>\n",
              "      <th>3</th>\n",
              "      <td>i left with my bouquet of red and yellow tulip...</td>\n",
              "      <td>joy</td>\n",
              "    </tr>\n",
              "    <tr>\n",
              "      <th>4</th>\n",
              "      <td>i was feeling a little vain when i did this one</td>\n",
              "      <td>sadness</td>\n",
              "    </tr>\n",
              "  </tbody>\n",
              "</table>\n",
              "</div>\n",
              "      <button class=\"colab-df-convert\" onclick=\"convertToInteractive('df-30b21686-bfaf-4170-aaf0-7a10a6473779')\"\n",
              "              title=\"Convert this dataframe to an interactive table.\"\n",
              "              style=\"display:none;\">\n",
              "        \n",
              "  <svg xmlns=\"http://www.w3.org/2000/svg\" height=\"24px\"viewBox=\"0 0 24 24\"\n",
              "       width=\"24px\">\n",
              "    <path d=\"M0 0h24v24H0V0z\" fill=\"none\"/>\n",
              "    <path d=\"M18.56 5.44l.94 2.06.94-2.06 2.06-.94-2.06-.94-.94-2.06-.94 2.06-2.06.94zm-11 1L8.5 8.5l.94-2.06 2.06-.94-2.06-.94L8.5 2.5l-.94 2.06-2.06.94zm10 10l.94 2.06.94-2.06 2.06-.94-2.06-.94-.94-2.06-.94 2.06-2.06.94z\"/><path d=\"M17.41 7.96l-1.37-1.37c-.4-.4-.92-.59-1.43-.59-.52 0-1.04.2-1.43.59L10.3 9.45l-7.72 7.72c-.78.78-.78 2.05 0 2.83L4 21.41c.39.39.9.59 1.41.59.51 0 1.02-.2 1.41-.59l7.78-7.78 2.81-2.81c.8-.78.8-2.07 0-2.86zM5.41 20L4 18.59l7.72-7.72 1.47 1.35L5.41 20z\"/>\n",
              "  </svg>\n",
              "      </button>\n",
              "      \n",
              "  <style>\n",
              "    .colab-df-container {\n",
              "      display:flex;\n",
              "      flex-wrap:wrap;\n",
              "      gap: 12px;\n",
              "    }\n",
              "\n",
              "    .colab-df-convert {\n",
              "      background-color: #E8F0FE;\n",
              "      border: none;\n",
              "      border-radius: 50%;\n",
              "      cursor: pointer;\n",
              "      display: none;\n",
              "      fill: #1967D2;\n",
              "      height: 32px;\n",
              "      padding: 0 0 0 0;\n",
              "      width: 32px;\n",
              "    }\n",
              "\n",
              "    .colab-df-convert:hover {\n",
              "      background-color: #E2EBFA;\n",
              "      box-shadow: 0px 1px 2px rgba(60, 64, 67, 0.3), 0px 1px 3px 1px rgba(60, 64, 67, 0.15);\n",
              "      fill: #174EA6;\n",
              "    }\n",
              "\n",
              "    [theme=dark] .colab-df-convert {\n",
              "      background-color: #3B4455;\n",
              "      fill: #D2E3FC;\n",
              "    }\n",
              "\n",
              "    [theme=dark] .colab-df-convert:hover {\n",
              "      background-color: #434B5C;\n",
              "      box-shadow: 0px 1px 3px 1px rgba(0, 0, 0, 0.15);\n",
              "      filter: drop-shadow(0px 1px 2px rgba(0, 0, 0, 0.3));\n",
              "      fill: #FFFFFF;\n",
              "    }\n",
              "  </style>\n",
              "\n",
              "      <script>\n",
              "        const buttonEl =\n",
              "          document.querySelector('#df-30b21686-bfaf-4170-aaf0-7a10a6473779 button.colab-df-convert');\n",
              "        buttonEl.style.display =\n",
              "          google.colab.kernel.accessAllowed ? 'block' : 'none';\n",
              "\n",
              "        async function convertToInteractive(key) {\n",
              "          const element = document.querySelector('#df-30b21686-bfaf-4170-aaf0-7a10a6473779');\n",
              "          const dataTable =\n",
              "            await google.colab.kernel.invokeFunction('convertToInteractive',\n",
              "                                                     [key], {});\n",
              "          if (!dataTable) return;\n",
              "\n",
              "          const docLinkHtml = 'Like what you see? Visit the ' +\n",
              "            '<a target=\"_blank\" href=https://colab.research.google.com/notebooks/data_table.ipynb>data table notebook</a>'\n",
              "            + ' to learn more about interactive tables.';\n",
              "          element.innerHTML = '';\n",
              "          dataTable['output_type'] = 'display_data';\n",
              "          await google.colab.output.renderOutput(dataTable, element);\n",
              "          const docLink = document.createElement('div');\n",
              "          docLink.innerHTML = docLinkHtml;\n",
              "          element.appendChild(docLink);\n",
              "        }\n",
              "      </script>\n",
              "    </div>\n",
              "  </div>\n",
              "  "
            ]
          },
          "metadata": {},
          "execution_count": 7
        }
      ]
    },
    {
      "cell_type": "markdown",
      "source": [
        "**Importing Deep Learning Libraries**"
      ],
      "metadata": {
        "id": "4jdqL_jfnqe3"
      }
    },
    {
      "cell_type": "code",
      "source": [
        "import tensorflow as tf\n",
        "from tensorflow.keras.preprocessing.text import one_hot\n",
        "from tensorflow.keras.preprocessing.sequence import pad_sequences\n",
        "from tensorflow.keras.layers import Embedding\n",
        "from tensorflow.keras.models import Sequential\n",
        "from tensorflow.keras.layers import Dense\n",
        "from tensorflow.keras.layers import Dropout\n",
        "from tensorflow.keras.layers import Bidirectional\n",
        "from tensorflow.keras.layers import LSTM\n",
        "from tensorflow.keras.utils import to_categorical"
      ],
      "metadata": {
        "id": "gVg6y9acl91X"
      },
      "execution_count": 8,
      "outputs": []
    },
    {
      "cell_type": "markdown",
      "source": [
        "**One Hot Encoding**"
      ],
      "metadata": {
        "id": "TBX3ltQRnpSa"
      }
    },
    {
      "cell_type": "code",
      "source": [
        "# setting hyper parameters\n",
        "voc_size = 10000\n",
        "\n",
        "train_sent = train_data['Message']\n",
        "val_sent = val_data['Message']\n",
        "test_sent =  test_data['Message']\n",
        "\n",
        "sent_length = max(max([len(s.split()) for s in train_sent]), \n",
        "                  max([len(s.split()) for s in val_sent]), \n",
        "                  max([len(s.split()) for s in test_sent]))\n",
        "\n",
        "\n",
        "train_onehot_repr = [one_hot(words, voc_size) for words in train_sent]\n",
        "val_onehot_repr = [one_hot(words, voc_size) for words in val_sent]\n",
        "test_onehot_repr = [one_hot(words, voc_size) for words in test_sent]\n"
      ],
      "metadata": {
        "id": "7S7HrmOOnB4A"
      },
      "execution_count": 9,
      "outputs": []
    },
    {
      "cell_type": "markdown",
      "source": [
        "**Padding Sequence**"
      ],
      "metadata": {
        "id": "SCt7jD14ocA7"
      }
    },
    {
      "cell_type": "code",
      "source": [
        "train_padded_doc = pad_sequences(train_onehot_repr, padding='post', maxlen=sent_length)\n",
        "val_padded_doc = pad_sequences(val_onehot_repr, padding='post', maxlen=sent_length)\n",
        "test_padded_doc = pad_sequences(test_onehot_repr, padding='post', maxlen=sent_length)"
      ],
      "metadata": {
        "id": "cFYQiTH7oUZt"
      },
      "execution_count": 10,
      "outputs": []
    },
    {
      "cell_type": "markdown",
      "source": [
        "**Model Building**"
      ],
      "metadata": {
        "id": "WD4dQ1aBrK-b"
      }
    },
    {
      "cell_type": "code",
      "source": [
        "embedding_vector_feautures = 100\n",
        "\n",
        "model=Sequential()\n",
        "model.add(Embedding(voc_size,\n",
        "                    embedding_vector_feautures,\n",
        "                    input_length=sent_length))\n",
        "model.add(Dropout(0.3))\n",
        "model.add(Bidirectional(LSTM(80,return_sequences=True)))\n",
        "model.add(Bidirectional(LSTM(160)))\n",
        "model.add(Dense(6, activation='softmax'))\n",
        "\n",
        "model.compile(loss='categorical_crossentropy', \n",
        "              optimizer='adam',\n",
        "              metrics=['accuracy'])\n",
        "print(model.summary())"
      ],
      "metadata": {
        "colab": {
          "base_uri": "https://localhost:8080/"
        },
        "id": "hGLF1hseuTP-",
        "outputId": "ec229773-6099-4636-9c7b-962178edc288"
      },
      "execution_count": 11,
      "outputs": [
        {
          "output_type": "stream",
          "name": "stdout",
          "text": [
            "Model: \"sequential\"\n",
            "_________________________________________________________________\n",
            " Layer (type)                Output Shape              Param #   \n",
            "=================================================================\n",
            " embedding (Embedding)       (None, 66, 100)           1000000   \n",
            "                                                                 \n",
            " dropout (Dropout)           (None, 66, 100)           0         \n",
            "                                                                 \n",
            " bidirectional (Bidirectiona  (None, 66, 160)          115840    \n",
            " l)                                                              \n",
            "                                                                 \n",
            " bidirectional_1 (Bidirectio  (None, 320)              410880    \n",
            " nal)                                                            \n",
            "                                                                 \n",
            " dense (Dense)               (None, 6)                 1926      \n",
            "                                                                 \n",
            "=================================================================\n",
            "Total params: 1,528,646\n",
            "Trainable params: 1,528,646\n",
            "Non-trainable params: 0\n",
            "_________________________________________________________________\n",
            "None\n"
          ]
        }
      ]
    },
    {
      "cell_type": "code",
      "source": [
        "train_data['Emotion']=train_data.Emotion.replace({'joy':0,'anger':1,'love':2,'sadness':3,'fear':4,'surprise':5})\n",
        "y_train=to_categorical(train_data['Emotion'])\n",
        "\n",
        "val_data['Emotion']=val_data.Emotion.replace({'joy':0,'anger':1,'love':2,'sadness':3,'fear':4,'surprise':5})\n",
        "y_val=to_categorical(val_data['Emotion'])\n",
        "\n",
        "test_data['Emotion']=test_data.Emotion.replace({'joy':0,'anger':1,'love':2,'sadness':3,'fear':4,'surprise':5})\n",
        "y_test=to_categorical(test_data['Emotion'])"
      ],
      "metadata": {
        "id": "NMZOGP9DudVA"
      },
      "execution_count": 12,
      "outputs": []
    },
    {
      "cell_type": "markdown",
      "source": [
        "**Model Training**"
      ],
      "metadata": {
        "id": "RnoACI0hx10d"
      }
    },
    {
      "cell_type": "code",
      "source": [
        "model.fit(train_padded_doc,\n",
        "          y_train, \n",
        "          validation_data=(val_padded_doc, y_val), \n",
        "          epochs=50,\n",
        "          batch_size=60)"
      ],
      "metadata": {
        "colab": {
          "base_uri": "https://localhost:8080/"
        },
        "id": "0ENa7F5Nxz-a",
        "outputId": "09192b8f-933e-4869-bf3d-f78dab2fc9eb"
      },
      "execution_count": 13,
      "outputs": [
        {
          "output_type": "stream",
          "name": "stdout",
          "text": [
            "Epoch 1/50\n",
            "267/267 [==============================] - 15s 25ms/step - loss: 1.2322 - accuracy: 0.5197 - val_loss: 0.7173 - val_accuracy: 0.7635\n",
            "Epoch 2/50\n",
            "267/267 [==============================] - 5s 19ms/step - loss: 0.5038 - accuracy: 0.8252 - val_loss: 0.3950 - val_accuracy: 0.8655\n",
            "Epoch 3/50\n",
            "267/267 [==============================] - 5s 20ms/step - loss: 0.2791 - accuracy: 0.9038 - val_loss: 0.3436 - val_accuracy: 0.8830\n",
            "Epoch 4/50\n",
            "267/267 [==============================] - 5s 20ms/step - loss: 0.1910 - accuracy: 0.9346 - val_loss: 0.3484 - val_accuracy: 0.8785\n",
            "Epoch 5/50\n",
            "267/267 [==============================] - 5s 19ms/step - loss: 0.1557 - accuracy: 0.9454 - val_loss: 0.3394 - val_accuracy: 0.8790\n",
            "Epoch 6/50\n",
            "267/267 [==============================] - 5s 20ms/step - loss: 0.1194 - accuracy: 0.9587 - val_loss: 0.3467 - val_accuracy: 0.8910\n",
            "Epoch 7/50\n",
            "267/267 [==============================] - 5s 19ms/step - loss: 0.1018 - accuracy: 0.9632 - val_loss: 0.4015 - val_accuracy: 0.8790\n",
            "Epoch 8/50\n",
            "267/267 [==============================] - 5s 19ms/step - loss: 0.0872 - accuracy: 0.9688 - val_loss: 0.3771 - val_accuracy: 0.8890\n",
            "Epoch 9/50\n",
            "267/267 [==============================] - 5s 20ms/step - loss: 0.0748 - accuracy: 0.9725 - val_loss: 0.3720 - val_accuracy: 0.8865\n",
            "Epoch 10/50\n",
            "267/267 [==============================] - 5s 20ms/step - loss: 0.0696 - accuracy: 0.9746 - val_loss: 0.3661 - val_accuracy: 0.9000\n",
            "Epoch 11/50\n",
            "267/267 [==============================] - 5s 20ms/step - loss: 0.0657 - accuracy: 0.9771 - val_loss: 0.3808 - val_accuracy: 0.8870\n",
            "Epoch 12/50\n",
            "267/267 [==============================] - 5s 20ms/step - loss: 0.0586 - accuracy: 0.9778 - val_loss: 0.3754 - val_accuracy: 0.8960\n",
            "Epoch 13/50\n",
            "267/267 [==============================] - 6s 22ms/step - loss: 0.0554 - accuracy: 0.9794 - val_loss: 0.3807 - val_accuracy: 0.8945\n",
            "Epoch 14/50\n",
            "267/267 [==============================] - 5s 21ms/step - loss: 0.0475 - accuracy: 0.9831 - val_loss: 0.4012 - val_accuracy: 0.8910\n",
            "Epoch 15/50\n",
            "267/267 [==============================] - 5s 20ms/step - loss: 0.0482 - accuracy: 0.9826 - val_loss: 0.4117 - val_accuracy: 0.8895\n",
            "Epoch 16/50\n",
            "267/267 [==============================] - 5s 20ms/step - loss: 0.0380 - accuracy: 0.9856 - val_loss: 0.3882 - val_accuracy: 0.8940\n",
            "Epoch 17/50\n",
            "267/267 [==============================] - 5s 20ms/step - loss: 0.0365 - accuracy: 0.9867 - val_loss: 0.4059 - val_accuracy: 0.8875\n",
            "Epoch 18/50\n",
            "267/267 [==============================] - 5s 20ms/step - loss: 0.0346 - accuracy: 0.9874 - val_loss: 0.4615 - val_accuracy: 0.8945\n",
            "Epoch 19/50\n",
            "267/267 [==============================] - 5s 20ms/step - loss: 0.0372 - accuracy: 0.9864 - val_loss: 0.4390 - val_accuracy: 0.8950\n",
            "Epoch 20/50\n",
            "267/267 [==============================] - 5s 20ms/step - loss: 0.0303 - accuracy: 0.9885 - val_loss: 0.4815 - val_accuracy: 0.8935\n",
            "Epoch 21/50\n",
            "267/267 [==============================] - 5s 20ms/step - loss: 0.0327 - accuracy: 0.9871 - val_loss: 0.4942 - val_accuracy: 0.8885\n",
            "Epoch 22/50\n",
            "267/267 [==============================] - 5s 20ms/step - loss: 0.0290 - accuracy: 0.9900 - val_loss: 0.4761 - val_accuracy: 0.8890\n",
            "Epoch 23/50\n",
            "267/267 [==============================] - 5s 20ms/step - loss: 0.0279 - accuracy: 0.9896 - val_loss: 0.4781 - val_accuracy: 0.8880\n",
            "Epoch 24/50\n",
            "267/267 [==============================] - 5s 20ms/step - loss: 0.0268 - accuracy: 0.9890 - val_loss: 0.4838 - val_accuracy: 0.8885\n",
            "Epoch 25/50\n",
            "267/267 [==============================] - 5s 20ms/step - loss: 0.0247 - accuracy: 0.9909 - val_loss: 0.4724 - val_accuracy: 0.8940\n",
            "Epoch 26/50\n",
            "267/267 [==============================] - 5s 20ms/step - loss: 0.0315 - accuracy: 0.9889 - val_loss: 0.4806 - val_accuracy: 0.8990\n",
            "Epoch 27/50\n",
            "267/267 [==============================] - 5s 20ms/step - loss: 0.0231 - accuracy: 0.9904 - val_loss: 0.5273 - val_accuracy: 0.8920\n",
            "Epoch 28/50\n",
            "267/267 [==============================] - 5s 20ms/step - loss: 0.0209 - accuracy: 0.9912 - val_loss: 0.5552 - val_accuracy: 0.8930\n",
            "Epoch 29/50\n",
            "267/267 [==============================] - 5s 21ms/step - loss: 0.0184 - accuracy: 0.9929 - val_loss: 0.5053 - val_accuracy: 0.9030\n",
            "Epoch 30/50\n",
            "267/267 [==============================] - 5s 21ms/step - loss: 0.0171 - accuracy: 0.9933 - val_loss: 0.5074 - val_accuracy: 0.9020\n",
            "Epoch 31/50\n",
            "267/267 [==============================] - 5s 20ms/step - loss: 0.0187 - accuracy: 0.9925 - val_loss: 0.5498 - val_accuracy: 0.9000\n",
            "Epoch 32/50\n",
            "267/267 [==============================] - 5s 20ms/step - loss: 0.0188 - accuracy: 0.9931 - val_loss: 0.5781 - val_accuracy: 0.8945\n",
            "Epoch 33/50\n",
            "267/267 [==============================] - 5s 20ms/step - loss: 0.0187 - accuracy: 0.9924 - val_loss: 0.5298 - val_accuracy: 0.8965\n",
            "Epoch 34/50\n",
            "267/267 [==============================] - 5s 20ms/step - loss: 0.0163 - accuracy: 0.9939 - val_loss: 0.5472 - val_accuracy: 0.8910\n",
            "Epoch 35/50\n",
            "267/267 [==============================] - 5s 20ms/step - loss: 0.0160 - accuracy: 0.9934 - val_loss: 0.5334 - val_accuracy: 0.8885\n",
            "Epoch 36/50\n",
            "267/267 [==============================] - 5s 21ms/step - loss: 0.0125 - accuracy: 0.9951 - val_loss: 0.6187 - val_accuracy: 0.8870\n",
            "Epoch 37/50\n",
            "267/267 [==============================] - 5s 20ms/step - loss: 0.0161 - accuracy: 0.9934 - val_loss: 0.5709 - val_accuracy: 0.8895\n",
            "Epoch 38/50\n",
            "267/267 [==============================] - 5s 21ms/step - loss: 0.0163 - accuracy: 0.9937 - val_loss: 0.5514 - val_accuracy: 0.8875\n",
            "Epoch 39/50\n",
            "267/267 [==============================] - 5s 20ms/step - loss: 0.0189 - accuracy: 0.9924 - val_loss: 0.5183 - val_accuracy: 0.8945\n",
            "Epoch 40/50\n",
            "267/267 [==============================] - 5s 20ms/step - loss: 0.0143 - accuracy: 0.9947 - val_loss: 0.6959 - val_accuracy: 0.8790\n",
            "Epoch 41/50\n",
            "267/267 [==============================] - 5s 20ms/step - loss: 0.0188 - accuracy: 0.9928 - val_loss: 0.5469 - val_accuracy: 0.8970\n",
            "Epoch 42/50\n",
            "267/267 [==============================] - 5s 20ms/step - loss: 0.0115 - accuracy: 0.9948 - val_loss: 0.5804 - val_accuracy: 0.8965\n",
            "Epoch 43/50\n",
            "267/267 [==============================] - 5s 21ms/step - loss: 0.0123 - accuracy: 0.9948 - val_loss: 0.6089 - val_accuracy: 0.8950\n",
            "Epoch 44/50\n",
            "267/267 [==============================] - 5s 20ms/step - loss: 0.0147 - accuracy: 0.9941 - val_loss: 0.5722 - val_accuracy: 0.8910\n",
            "Epoch 45/50\n",
            "267/267 [==============================] - 6s 21ms/step - loss: 0.0126 - accuracy: 0.9951 - val_loss: 0.5630 - val_accuracy: 0.8950\n",
            "Epoch 46/50\n",
            "267/267 [==============================] - 5s 21ms/step - loss: 0.0103 - accuracy: 0.9958 - val_loss: 0.5733 - val_accuracy: 0.8920\n",
            "Epoch 47/50\n",
            "267/267 [==============================] - 5s 20ms/step - loss: 0.0099 - accuracy: 0.9954 - val_loss: 0.5645 - val_accuracy: 0.8960\n",
            "Epoch 48/50\n",
            "267/267 [==============================] - 5s 20ms/step - loss: 0.0099 - accuracy: 0.9957 - val_loss: 0.5879 - val_accuracy: 0.8950\n",
            "Epoch 49/50\n",
            "267/267 [==============================] - 5s 21ms/step - loss: 0.0114 - accuracy: 0.9954 - val_loss: 0.5854 - val_accuracy: 0.8945\n",
            "Epoch 50/50\n",
            "267/267 [==============================] - 5s 21ms/step - loss: 0.0147 - accuracy: 0.9944 - val_loss: 0.5778 - val_accuracy: 0.8910\n"
          ]
        },
        {
          "output_type": "execute_result",
          "data": {
            "text/plain": [
              "<keras.callbacks.History at 0x7febb03eed90>"
            ]
          },
          "metadata": {},
          "execution_count": 13
        }
      ]
    },
    {
      "cell_type": "code",
      "source": [
        "y_predict = model.predict(test_padded_doc)"
      ],
      "metadata": {
        "id": "D7iJueTULFoD"
      },
      "execution_count": 17,
      "outputs": []
    },
    {
      "cell_type": "code",
      "source": [
        "y_predict_class = []\n",
        "for ele in y_predict:\n",
        "  y_predict_class.append(list(ele).index(max(ele)))\n",
        "\n",
        "y_actual_class = []\n",
        "for ele in y_test:\n",
        "  y_actual_class.append(list(ele).index(max(ele)))"
      ],
      "metadata": {
        "id": "MW5cyXlyQYph"
      },
      "execution_count": 26,
      "outputs": []
    },
    {
      "cell_type": "code",
      "source": [
        "from sklearn.metrics import accuracy_score\n",
        "acc = accuracy_score(y_predict_class, y_actual_class)"
      ],
      "metadata": {
        "id": "gobnQ2cpQY_F"
      },
      "execution_count": 27,
      "outputs": []
    },
    {
      "cell_type": "code",
      "source": [
        "acc"
      ],
      "metadata": {
        "colab": {
          "base_uri": "https://localhost:8080/"
        },
        "id": "5L3tndIvR0dd",
        "outputId": "3279f4b6-85a8-422c-94fb-c1702d0f74eb"
      },
      "execution_count": 28,
      "outputs": [
        {
          "output_type": "execute_result",
          "data": {
            "text/plain": [
              "0.8865"
            ]
          },
          "metadata": {},
          "execution_count": 28
        }
      ]
    },
    {
      "cell_type": "code",
      "source": [
        "from sklearn.metrics import confusion_matrix\n",
        "cm = confusion_matrix(y_predict_class, y_actual_class)"
      ],
      "metadata": {
        "id": "50qZpQvYR-TP"
      },
      "execution_count": 33,
      "outputs": []
    },
    {
      "cell_type": "code",
      "source": [
        "cm"
      ],
      "metadata": {
        "colab": {
          "base_uri": "https://localhost:8080/"
        },
        "id": "e68DeBLKSUcx",
        "outputId": "c413c996-ebd3-4bc9-92df-cc0f219f427a"
      },
      "execution_count": 34,
      "outputs": [
        {
          "output_type": "execute_result",
          "data": {
            "text/plain": [
              "array([[649,  12,  31,  21,   6,   6],\n",
              "       [  3, 233,   2,   7,   7,   0],\n",
              "       [ 28,   4, 120,   3,   3,   0],\n",
              "       [  5,  14,   3, 539,   8,   1],\n",
              "       [  5,   9,   1,  10, 186,  13],\n",
              "       [  5,   3,   2,   1,  14,  46]])"
            ]
          },
          "metadata": {},
          "execution_count": 34
        }
      ]
    },
    {
      "cell_type": "code",
      "source": [
        "from sklearn.metrics import classification_report\n",
        "cr = classification_report(y_predict_class, y_actual_class)"
      ],
      "metadata": {
        "id": "mvPqOEINSVKd"
      },
      "execution_count": 32,
      "outputs": []
    },
    {
      "cell_type": "code",
      "source": [
        "print(cr)"
      ],
      "metadata": {
        "colab": {
          "base_uri": "https://localhost:8080/"
        },
        "id": "fDInY_DtWFSa",
        "outputId": "895cb1a2-4698-4ef2-a496-eb44ec674930"
      },
      "execution_count": 36,
      "outputs": [
        {
          "output_type": "stream",
          "name": "stdout",
          "text": [
            "              precision    recall  f1-score   support\n",
            "\n",
            "           0       0.93      0.90      0.91       725\n",
            "           1       0.85      0.92      0.88       252\n",
            "           2       0.75      0.76      0.76       158\n",
            "           3       0.93      0.95      0.94       570\n",
            "           4       0.83      0.83      0.83       224\n",
            "           5       0.70      0.65      0.67        71\n",
            "\n",
            "    accuracy                           0.89      2000\n",
            "   macro avg       0.83      0.83      0.83      2000\n",
            "weighted avg       0.89      0.89      0.89      2000\n",
            "\n"
          ]
        }
      ]
    },
    {
      "cell_type": "code",
      "source": [
        ""
      ],
      "metadata": {
        "id": "XHDs7ZStWQ1L"
      },
      "execution_count": null,
      "outputs": []
    }
  ]
}